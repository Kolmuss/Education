{
 "cells": [
  {
   "cell_type": "markdown",
   "metadata": {},
   "source": [
    "<span style=\"color:#011f4b; font-size:15px; \">\n",
    " <h3>TASK 1 [5 min]</h3> <br/>Import all necessary <code>packages</code> and get first look at you <code>dataset</code> \n",
    "    <br/> <span style=\"color:#00a0e5\">(Ваша задача - подключить все необходимые пакеты и получить представление о данных) </span>\n",
    "    </span>"
   ]
  },
  {
   "cell_type": "code",
   "execution_count": 144,
   "metadata": {},
   "outputs": [],
   "source": [
    "import pandas as pd\n",
    "import numpy as np \n",
    "%matplotlib inline\n",
    "import matplotlib.pyplot as plt\n",
    "import seaborn as sns"
   ]
  },
  {
   "cell_type": "code",
   "execution_count": 145,
   "metadata": {},
   "outputs": [],
   "source": [
    "from sklearn.linear_model import LinearRegression, LassoCV, RidgeCV\n",
    "from sklearn.model_selection import train_test_split, GridSearchCV, cross_val_score, KFold\n",
    "from sklearn.metrics import mean_squared_error, r2_score, mean_absolute_error\n",
    "from sklearn.preprocessing import PolynomialFeatures, StandardScaler, LabelEncoder, OneHotEncoder\n",
    "from sklearn.feature_selection import ( VarianceThreshold, RFECV, mutual_info_regression, \n",
    "                                       f_regression, SelectKBest )"
   ]
  },
  {
   "cell_type": "code",
   "execution_count": 146,
   "metadata": {},
   "outputs": [],
   "source": [
    "df = pd.read_csv('data/london_bike (1).csv', index_col=['Unnamed: 0'])\n",
    "init_size = df.shape"
   ]
  },
  {
   "cell_type": "code",
   "execution_count": 147,
   "metadata": {},
   "outputs": [
    {
     "data": {
      "text/html": [
       "<div>\n",
       "<style scoped>\n",
       "    .dataframe tbody tr th:only-of-type {\n",
       "        vertical-align: middle;\n",
       "    }\n",
       "\n",
       "    .dataframe tbody tr th {\n",
       "        vertical-align: top;\n",
       "    }\n",
       "\n",
       "    .dataframe thead th {\n",
       "        text-align: right;\n",
       "    }\n",
       "</style>\n",
       "<table border=\"1\" class=\"dataframe\">\n",
       "  <thead>\n",
       "    <tr style=\"text-align: right;\">\n",
       "      <th></th>\n",
       "      <th>timestamp</th>\n",
       "      <th>cnt</th>\n",
       "      <th>t1</th>\n",
       "      <th>t2</th>\n",
       "      <th>hum</th>\n",
       "      <th>wind_speed</th>\n",
       "      <th>weather_code</th>\n",
       "      <th>is_holiday</th>\n",
       "      <th>is_weekend</th>\n",
       "      <th>season</th>\n",
       "    </tr>\n",
       "  </thead>\n",
       "  <tbody>\n",
       "    <tr>\n",
       "      <td>0</td>\n",
       "      <td>2015-01-04 00:00:00</td>\n",
       "      <td>182</td>\n",
       "      <td>3.0</td>\n",
       "      <td>2.0</td>\n",
       "      <td>93.0</td>\n",
       "      <td>6.0</td>\n",
       "      <td>3.0</td>\n",
       "      <td>0.0</td>\n",
       "      <td>NaN</td>\n",
       "      <td>3.0</td>\n",
       "    </tr>\n",
       "    <tr>\n",
       "      <td>1</td>\n",
       "      <td>2015-01-04 01:00:00</td>\n",
       "      <td>138</td>\n",
       "      <td>3.0</td>\n",
       "      <td>2.5</td>\n",
       "      <td>93.0</td>\n",
       "      <td>NaN</td>\n",
       "      <td>1.0</td>\n",
       "      <td>0.0</td>\n",
       "      <td>1.0</td>\n",
       "      <td>3.0</td>\n",
       "    </tr>\n",
       "    <tr>\n",
       "      <td>2</td>\n",
       "      <td>2015-01-04 02:00:00</td>\n",
       "      <td>134</td>\n",
       "      <td>2.5</td>\n",
       "      <td>NaN</td>\n",
       "      <td>96.5</td>\n",
       "      <td>0.0</td>\n",
       "      <td>1.0</td>\n",
       "      <td>0.0</td>\n",
       "      <td>1.0</td>\n",
       "      <td>3.0</td>\n",
       "    </tr>\n",
       "    <tr>\n",
       "      <td>3</td>\n",
       "      <td>2015-01-04 03:00:00</td>\n",
       "      <td>72</td>\n",
       "      <td>2.0</td>\n",
       "      <td>2.0</td>\n",
       "      <td>100.0</td>\n",
       "      <td>0.0</td>\n",
       "      <td>1.0</td>\n",
       "      <td>0.0</td>\n",
       "      <td>NaN</td>\n",
       "      <td>3.0</td>\n",
       "    </tr>\n",
       "    <tr>\n",
       "      <td>4</td>\n",
       "      <td>2015-01-04 04:00:00</td>\n",
       "      <td>47</td>\n",
       "      <td>2.0</td>\n",
       "      <td>0.0</td>\n",
       "      <td>93.0</td>\n",
       "      <td>6.5</td>\n",
       "      <td>NaN</td>\n",
       "      <td>0.0</td>\n",
       "      <td>1.0</td>\n",
       "      <td>3.0</td>\n",
       "    </tr>\n",
       "  </tbody>\n",
       "</table>\n",
       "</div>"
      ],
      "text/plain": [
       "             timestamp  cnt   t1   t2    hum  wind_speed  weather_code  \\\n",
       "0  2015-01-04 00:00:00  182  3.0  2.0   93.0         6.0           3.0   \n",
       "1  2015-01-04 01:00:00  138  3.0  2.5   93.0         NaN           1.0   \n",
       "2  2015-01-04 02:00:00  134  2.5  NaN   96.5         0.0           1.0   \n",
       "3  2015-01-04 03:00:00   72  2.0  2.0  100.0         0.0           1.0   \n",
       "4  2015-01-04 04:00:00   47  2.0  0.0   93.0         6.5           NaN   \n",
       "\n",
       "   is_holiday  is_weekend  season  \n",
       "0         0.0         NaN     3.0  \n",
       "1         0.0         1.0     3.0  \n",
       "2         0.0         1.0     3.0  \n",
       "3         0.0         NaN     3.0  \n",
       "4         0.0         1.0     3.0  "
      ]
     },
     "execution_count": 147,
     "metadata": {},
     "output_type": "execute_result"
    }
   ],
   "source": [
    "df.head()"
   ]
  },
  {
   "cell_type": "code",
   "execution_count": 148,
   "metadata": {},
   "outputs": [
    {
     "name": "stdout",
     "output_type": "stream",
     "text": [
      "<class 'pandas.core.frame.DataFrame'>\n",
      "Int64Index: 17414 entries, 0 to 17413\n",
      "Data columns (total 10 columns):\n",
      "timestamp       17414 non-null object\n",
      "cnt             17414 non-null int64\n",
      "t1              17109 non-null float64\n",
      "t2              17090 non-null float64\n",
      "hum             17099 non-null float64\n",
      "wind_speed      17042 non-null float64\n",
      "weather_code    17088 non-null float64\n",
      "is_holiday      17079 non-null float64\n",
      "is_weekend      17076 non-null float64\n",
      "season          17098 non-null float64\n",
      "dtypes: float64(8), int64(1), object(1)\n",
      "memory usage: 1.5+ MB\n"
     ]
    }
   ],
   "source": [
    "df.info()"
   ]
  },
  {
   "cell_type": "markdown",
   "metadata": {},
   "source": [
    "Metadata:\n",
    "- \"timestamp\" - timestamp field for grouping the data\n",
    "- \"cnt\" - the count of a new bike shares\n",
    "- \"t1\" - real temperature in C\n",
    "- \"t2\" - temperature in C \"feels like\"\n",
    "- \"hum\" - humidity in percentage\n",
    "- \"wind_speed\" - wind speed in km/h\n",
    "- \"weather_code\" - category of the weather\n",
    "- \"is_holiday\" - boolean field - 1 holiday / 0 non holiday\n",
    "- \"is_weekend\" - boolean field - 1 if the day is weekend\n",
    "- \"season\" - category field meteorological seasons: 0-spring ; 1-summer; 2-fall; 3-winter.\n",
    "- \"weather_code\" category description:\n",
    "<br><br>\n",
    "- 1 = Clear ; mostly clear but have some values with haze/fog/patches of fog/ fog in vicinity\n",
    "- 2 = scattered clouds / few clouds\n",
    "- 3 = Broken clouds\n",
    "- 4 = Cloudy\n",
    "- 7 = Rain/ light Rain shower/ Light rain\n",
    "- 10 = rain with thunderstorm\n",
    "- 26 = snowfall\n",
    "- 94 = Freezing Fog"
   ]
  },
  {
   "cell_type": "code",
   "execution_count": 149,
   "metadata": {},
   "outputs": [
    {
     "name": "stdout",
     "output_type": "stream",
     "text": [
      "t1\n",
      "0.01751464339037556\n",
      "t2\n",
      "0.018605719536005514\n",
      "hum\n",
      "0.018088893993338694\n",
      "wind_speed\n",
      "0.02136212243022855\n",
      "weather_code\n",
      "0.01872056965659814\n",
      "is_holiday\n",
      "0.01923739519926496\n",
      "is_weekend\n",
      "0.0194096703801539\n",
      "season\n",
      "0.018146319053635007\n"
     ]
    }
   ],
   "source": [
    "for i in df.columns:\n",
    "    if(df[i].isna().mean()!=0):\n",
    "        print(i)\n",
    "        print(df[i].isna().mean())"
   ]
  },
  {
   "cell_type": "code",
   "execution_count": 150,
   "metadata": {},
   "outputs": [
    {
     "data": {
      "text/plain": [
       "Index(['t1', 't2', 'hum', 'wind_speed', 'weather_code', 'is_holiday',\n",
       "       'is_weekend', 'season'],\n",
       "      dtype='object')"
      ]
     },
     "execution_count": 150,
     "metadata": {},
     "output_type": "execute_result"
    }
   ],
   "source": [
    "numerical = df.drop('cnt',axis=1).select_dtypes(include=['float64', 'int64']).columns\n",
    "numerical"
   ]
  },
  {
   "cell_type": "markdown",
   "metadata": {},
   "source": [
    "<span style=\"color:#011f4b; font-size:15px; \">\n",
    " <h3>TASK 2 [20 min]</h3> <br/>Data editing -  <code>clean</code>, <code>change the formats</code>, <code>drop outliers</code> and <code>drop or restore NANs</code> in your dataset\n",
    "    <br/> <span style=\"color:#00a0e5\">(Очистите бесполезные данные, обработайте аутлайеры, приведите в нужный формат и удалите или восстановите NaN NANы) </span>\n",
    "    </span>"
   ]
  },
  {
   "cell_type": "code",
   "execution_count": 151,
   "metadata": {},
   "outputs": [],
   "source": [
    "df = df.dropna()"
   ]
  },
  {
   "cell_type": "code",
   "execution_count": 152,
   "metadata": {},
   "outputs": [],
   "source": [
    "for i in numerical:\n",
    "    df.drop(df[df[i] < df[i].quantile(.01)].index, inplace=True)\n",
    "    df.drop(df[df[i] > df[i].quantile(.99)].index, inplace=True)"
   ]
  },
  {
   "cell_type": "code",
   "execution_count": 153,
   "metadata": {
    "scrolled": true
   },
   "outputs": [
    {
     "data": {
      "text/plain": [
       "(13834, 10)"
      ]
     },
     "execution_count": 153,
     "metadata": {},
     "output_type": "execute_result"
    }
   ],
   "source": [
    "# y = df['cnt']\n",
    "X = df\n",
    "X.shape"
   ]
  },
  {
   "cell_type": "code",
   "execution_count": 154,
   "metadata": {},
   "outputs": [
    {
     "data": {
      "text/plain": [
       "2631    2015-04-23 23:00:00\n",
       "2632    2015-04-24 00:00:00\n",
       "2633    2015-04-24 01:00:00\n",
       "2635    2015-04-24 03:00:00\n",
       "2636    2015-04-24 04:00:00\n",
       "                ...        \n",
       "17409   2017-01-03 19:00:00\n",
       "17410   2017-01-03 20:00:00\n",
       "17411   2017-01-03 21:00:00\n",
       "17412   2017-01-03 22:00:00\n",
       "17413   2017-01-03 23:00:00\n",
       "Name: timestamp, Length: 13834, dtype: datetime64[ns]"
      ]
     },
     "execution_count": 154,
     "metadata": {},
     "output_type": "execute_result"
    }
   ],
   "source": [
    "X[\"timestamp\"] = pd.to_datetime(X[\"timestamp\"])\n",
    "X[\"timestamp\"]"
   ]
  },
  {
   "cell_type": "code",
   "execution_count": 155,
   "metadata": {},
   "outputs": [
    {
     "data": {
      "text/plain": [
       "<matplotlib.axes._subplots.AxesSubplot at 0x1f7baf6d888>"
      ]
     },
     "execution_count": 155,
     "metadata": {},
     "output_type": "execute_result"
    },
    {
     "data": {
      "image/png": "[encoded data removed]",
      "text/plain": [
       "<Figure size 1080x1080 with 2 Axes>"
      ]
     },
     "metadata": {
      "needs_background": "light"
     },
     "output_type": "display_data"
    }
   ],
   "source": [
    "plt.figure(figsize=(15,15))\n",
    "sns.heatmap(df[numerical].corr(), vmin=.9)"
   ]
  },
  {
   "cell_type": "code",
   "execution_count": 156,
   "metadata": {},
   "outputs": [],
   "source": [
    "X.drop('t2', axis=1, inplace=True)"
   ]
  },
  {
   "cell_type": "markdown",
   "metadata": {},
   "source": [
    "<span style=\"color:#011f4b; font-size:15px; \">\n",
    " <h3>TASK 3 [35 min]</h3> <br/>Test at least two hypothesis on your data\n",
    "    <br/> <span style=\"color:#00a0e5\">(Составьте и проверьте 2 гипотезы на данных - напишите выводы (анализ)) </span>\n",
    "    </span>"
   ]
  },
  {
   "cell_type": "code",
   "execution_count": 157,
   "metadata": {},
   "outputs": [
    {
     "data": {
      "text/plain": [
       "<matplotlib.axes._subplots.AxesSubplot at 0x1f7bb027588>"
      ]
     },
     "execution_count": 157,
     "metadata": {},
     "output_type": "execute_result"
    },
    {
     "data": {
      "image/png": "[encoded data removed]",
      "text/plain": [
       "<Figure size 432x288 with 1 Axes>"
      ]
     },
     "metadata": {
      "needs_background": "light"
     },
     "output_type": "display_data"
    }
   ],
   "source": [
    "X['cnt'].hist()"
   ]
  },
  {
   "cell_type": "code",
   "execution_count": 158,
   "metadata": {},
   "outputs": [],
   "source": [
    "def tperiod(x):\n",
    "    if x in range(0, 7):\n",
    "        return 1\n",
    "    elif x in range(7, 13):\n",
    "        return 2\n",
    "    elif x in range(13, 19):\n",
    "        return 3\n",
    "    else:\n",
    "        return 4 "
   ]
  },
  {
   "cell_type": "code",
   "execution_count": 159,
   "metadata": {},
   "outputs": [],
   "source": [
    "X['hour'] = X['timestamp'].dt.hour\n",
    "X['time_period'] = X['hour'].apply(tperiod)\n",
    "X.drop('hour', axis=1, inplace=True)"
   ]
  },
  {
   "cell_type": "code",
   "execution_count": 160,
   "metadata": {},
   "outputs": [
    {
     "data": {
      "image/png": "[encoded data removed]",
      "text/plain": [
       "<Figure size 720x720 with 1 Axes>"
      ]
     },
     "metadata": {
      "needs_background": "light"
     },
     "output_type": "display_data"
    }
   ],
   "source": [
    "plt.figure(figsize=(10,10))\n",
    "plt.bar(X['time_period'].unique(), X.groupby('time_period')['cnt'].mean(), width = 0.9, \n",
    "        color='#64fd00', ec='#414142')\n",
    "plt.xlabel('Time Period')\n",
    "plt.ylabel('Bikes Amount')\n",
    "plt.title('Bike over TPeriod')\n",
    "plt.show()"
   ]
  },
  {
   "cell_type": "markdown",
   "metadata": {},
   "source": [
    "My hypothesis is that periods of day bicycles have effect on bike sharing<br>\n",
    "\n",
    "Ho: B1 = B2<br>\n",
    "H1: B1 != B2<br>\n",
    "\n",
    "P val = 0.1\n",
    "SE = SDT because we have a lot of n > 1000, but hist biased"
   ]
  },
  {
   "cell_type": "code",
   "execution_count": 161,
   "metadata": {},
   "outputs": [
    {
     "data": {
      "text/plain": [
       "0.543405242069975"
      ]
     },
     "execution_count": 161,
     "metadata": {},
     "output_type": "execute_result"
    }
   ],
   "source": [
    "B1 = X.groupby('time_period')['cnt'].mean()[2] \n",
    "B2 = X['cnt'].mean()\n",
    "SE = X['cnt'].std()\n",
    "1-(B1-B2)/SE"
   ]
  },
  {
   "cell_type": "markdown",
   "metadata": {},
   "source": [
    "54% > 10% So I cannot reject H0 "
   ]
  },
  {
   "cell_type": "code",
   "execution_count": 162,
   "metadata": {},
   "outputs": [
    {
     "data": {
      "image/png": "[encoded data removed]",
      "text/plain": [
       "<Figure size 720x720 with 1 Axes>"
      ]
     },
     "metadata": {
      "needs_background": "light"
     },
     "output_type": "display_data"
    }
   ],
   "source": [
    "plt.figure(figsize=(10,10))\n",
    "plt.bar(X['is_holiday'].unique(), X.groupby('is_holiday')['cnt'].mean(), width = 0.5, \n",
    "        color='#64fd00', ec='#414142')\n",
    "plt.xlabel('Holiday')\n",
    "plt.ylabel('Bikes Amount')\n",
    "plt.title('Bike over Holiday')\n",
    "plt.show()"
   ]
  },
  {
   "cell_type": "markdown",
   "metadata": {},
   "source": [
    "My hypothesis is that on holidays bicycles are rented more often than on ordinary<br>\n",
    "\n",
    "Ho: B1 = B2<br>\n",
    "H1: B1 != B2<br>\n",
    "\n",
    "P val = 0.1\n",
    "SE = SDT because we have a lot of n > 1000, but hist biased"
   ]
  },
  {
   "cell_type": "code",
   "execution_count": 163,
   "metadata": {},
   "outputs": [
    {
     "data": {
      "text/plain": [
       "0.0    13516\n",
       "1.0      318\n",
       "Name: is_holiday, dtype: int64"
      ]
     },
     "execution_count": 163,
     "metadata": {},
     "output_type": "execute_result"
    }
   ],
   "source": [
    "X['is_holiday'].value_counts()"
   ]
  },
  {
   "cell_type": "code",
   "execution_count": 164,
   "metadata": {},
   "outputs": [
    {
     "data": {
      "text/plain": [
       "0.08426768200787327"
      ]
     },
     "execution_count": 164,
     "metadata": {},
     "output_type": "execute_result"
    }
   ],
   "source": [
    "B1 = X.groupby('is_holiday')['cnt'].mean()[0] \n",
    "B2 = X['cnt'].mean()\n",
    "SE = X['cnt'].std()\n",
    "N = X['cnt'].shape[0]**.5\n",
    "1-N*(B1-B2)/SE"
   ]
  },
  {
   "cell_type": "markdown",
   "metadata": {},
   "source": [
    "8% < 10% So I can claim that H0 is rejected "
   ]
  },
  {
   "cell_type": "markdown",
   "metadata": {},
   "source": [
    "<span style=\"color:#011f4b; font-size:15px; \">\n",
    " <h3>TASK 4 [40 min]</h3> <br/>Fit a linear regression model with your data, apply a regulization or feature selection methods. As a metric use RMSE and use cross-val-score as sampler. \n",
    "    <br/> <span style=\"color:#00a0e5\">(Обучите на ваших данных модель линейной регресии - примените к модели регилиризацию или метод(ы) отбора параметров. Метрикой качества используйте RMSE) </span>\n",
    "    </span>"
   ]
  },
  {
   "cell_type": "code",
   "execution_count": 165,
   "metadata": {},
   "outputs": [
    {
     "data": {
      "text/plain": [
       "(13834, 8)"
      ]
     },
     "execution_count": 165,
     "metadata": {},
     "output_type": "execute_result"
    }
   ],
   "source": [
    "y = X['cnt']\n",
    "X = X.drop(['cnt', 'timestamp'], axis=1)\n",
    "X.shape"
   ]
  },
  {
   "cell_type": "code",
   "execution_count": 166,
   "metadata": {},
   "outputs": [
    {
     "data": {
      "text/html": [
       "<div>\n",
       "<style scoped>\n",
       "    .dataframe tbody tr th:only-of-type {\n",
       "        vertical-align: middle;\n",
       "    }\n",
       "\n",
       "    .dataframe tbody tr th {\n",
       "        vertical-align: top;\n",
       "    }\n",
       "\n",
       "    .dataframe thead th {\n",
       "        text-align: right;\n",
       "    }\n",
       "</style>\n",
       "<table border=\"1\" class=\"dataframe\">\n",
       "  <thead>\n",
       "    <tr style=\"text-align: right;\">\n",
       "      <th></th>\n",
       "      <th>t1</th>\n",
       "      <th>hum</th>\n",
       "      <th>wind_speed</th>\n",
       "      <th>weather_code</th>\n",
       "      <th>is_holiday</th>\n",
       "      <th>is_weekend</th>\n",
       "      <th>season</th>\n",
       "      <th>time_period</th>\n",
       "    </tr>\n",
       "  </thead>\n",
       "  <tbody>\n",
       "    <tr>\n",
       "      <td>2631</td>\n",
       "      <td>8.0</td>\n",
       "      <td>82.0</td>\n",
       "      <td>10.0</td>\n",
       "      <td>1.0</td>\n",
       "      <td>0.0</td>\n",
       "      <td>0.0</td>\n",
       "      <td>0.0</td>\n",
       "      <td>4</td>\n",
       "    </tr>\n",
       "    <tr>\n",
       "      <td>2632</td>\n",
       "      <td>8.0</td>\n",
       "      <td>84.5</td>\n",
       "      <td>6.5</td>\n",
       "      <td>1.0</td>\n",
       "      <td>0.0</td>\n",
       "      <td>0.0</td>\n",
       "      <td>0.0</td>\n",
       "      <td>1</td>\n",
       "    </tr>\n",
       "    <tr>\n",
       "      <td>2633</td>\n",
       "      <td>8.0</td>\n",
       "      <td>87.0</td>\n",
       "      <td>5.5</td>\n",
       "      <td>1.0</td>\n",
       "      <td>0.0</td>\n",
       "      <td>0.0</td>\n",
       "      <td>0.0</td>\n",
       "      <td>1</td>\n",
       "    </tr>\n",
       "    <tr>\n",
       "      <td>2635</td>\n",
       "      <td>8.0</td>\n",
       "      <td>87.0</td>\n",
       "      <td>6.0</td>\n",
       "      <td>1.0</td>\n",
       "      <td>0.0</td>\n",
       "      <td>0.0</td>\n",
       "      <td>0.0</td>\n",
       "      <td>1</td>\n",
       "    </tr>\n",
       "    <tr>\n",
       "      <td>2636</td>\n",
       "      <td>8.0</td>\n",
       "      <td>87.0</td>\n",
       "      <td>6.0</td>\n",
       "      <td>1.0</td>\n",
       "      <td>0.0</td>\n",
       "      <td>0.0</td>\n",
       "      <td>0.0</td>\n",
       "      <td>1</td>\n",
       "    </tr>\n",
       "    <tr>\n",
       "      <td>...</td>\n",
       "      <td>...</td>\n",
       "      <td>...</td>\n",
       "      <td>...</td>\n",
       "      <td>...</td>\n",
       "      <td>...</td>\n",
       "      <td>...</td>\n",
       "      <td>...</td>\n",
       "      <td>...</td>\n",
       "    </tr>\n",
       "    <tr>\n",
       "      <td>17409</td>\n",
       "      <td>5.0</td>\n",
       "      <td>81.0</td>\n",
       "      <td>19.0</td>\n",
       "      <td>3.0</td>\n",
       "      <td>0.0</td>\n",
       "      <td>0.0</td>\n",
       "      <td>3.0</td>\n",
       "      <td>4</td>\n",
       "    </tr>\n",
       "    <tr>\n",
       "      <td>17410</td>\n",
       "      <td>5.0</td>\n",
       "      <td>81.0</td>\n",
       "      <td>21.0</td>\n",
       "      <td>4.0</td>\n",
       "      <td>0.0</td>\n",
       "      <td>0.0</td>\n",
       "      <td>3.0</td>\n",
       "      <td>4</td>\n",
       "    </tr>\n",
       "    <tr>\n",
       "      <td>17411</td>\n",
       "      <td>5.5</td>\n",
       "      <td>78.5</td>\n",
       "      <td>24.0</td>\n",
       "      <td>4.0</td>\n",
       "      <td>0.0</td>\n",
       "      <td>0.0</td>\n",
       "      <td>3.0</td>\n",
       "      <td>4</td>\n",
       "    </tr>\n",
       "    <tr>\n",
       "      <td>17412</td>\n",
       "      <td>5.5</td>\n",
       "      <td>76.0</td>\n",
       "      <td>23.0</td>\n",
       "      <td>4.0</td>\n",
       "      <td>0.0</td>\n",
       "      <td>0.0</td>\n",
       "      <td>3.0</td>\n",
       "      <td>4</td>\n",
       "    </tr>\n",
       "    <tr>\n",
       "      <td>17413</td>\n",
       "      <td>5.0</td>\n",
       "      <td>76.0</td>\n",
       "      <td>22.0</td>\n",
       "      <td>2.0</td>\n",
       "      <td>0.0</td>\n",
       "      <td>0.0</td>\n",
       "      <td>3.0</td>\n",
       "      <td>4</td>\n",
       "    </tr>\n",
       "  </tbody>\n",
       "</table>\n",
       "<p>13834 rows × 8 columns</p>\n",
       "</div>"
      ],
      "text/plain": [
       "        t1   hum  wind_speed  weather_code  is_holiday  is_weekend  season  \\\n",
       "2631   8.0  82.0        10.0           1.0         0.0         0.0     0.0   \n",
       "2632   8.0  84.5         6.5           1.0         0.0         0.0     0.0   \n",
       "2633   8.0  87.0         5.5           1.0         0.0         0.0     0.0   \n",
       "2635   8.0  87.0         6.0           1.0         0.0         0.0     0.0   \n",
       "2636   8.0  87.0         6.0           1.0         0.0         0.0     0.0   \n",
       "...    ...   ...         ...           ...         ...         ...     ...   \n",
       "17409  5.0  81.0        19.0           3.0         0.0         0.0     3.0   \n",
       "17410  5.0  81.0        21.0           4.0         0.0         0.0     3.0   \n",
       "17411  5.5  78.5        24.0           4.0         0.0         0.0     3.0   \n",
       "17412  5.5  76.0        23.0           4.0         0.0         0.0     3.0   \n",
       "17413  5.0  76.0        22.0           2.0         0.0         0.0     3.0   \n",
       "\n",
       "       time_period  \n",
       "2631             4  \n",
       "2632             1  \n",
       "2633             1  \n",
       "2635             1  \n",
       "2636             1  \n",
       "...            ...  \n",
       "17409            4  \n",
       "17410            4  \n",
       "17411            4  \n",
       "17412            4  \n",
       "17413            4  \n",
       "\n",
       "[13834 rows x 8 columns]"
      ]
     },
     "execution_count": 166,
     "metadata": {},
     "output_type": "execute_result"
    }
   ],
   "source": [
    "X"
   ]
  },
  {
   "cell_type": "code",
   "execution_count": 167,
   "metadata": {},
   "outputs": [],
   "source": [
    "dummy = OneHotEncoder()\n",
    "X_dum = X[['weather_code', 'season', 'time_period']]\n",
    "X_scale = X[['t1', 'hum', 'wind_speed']]\n",
    "X_bin = X[['is_holiday', 'is_weekend']]"
   ]
  },
  {
   "cell_type": "code",
   "execution_count": 168,
   "metadata": {},
   "outputs": [],
   "source": [
    "X_dum = dummy.fit_transform(X_dum)"
   ]
  },
  {
   "cell_type": "code",
   "execution_count": 169,
   "metadata": {},
   "outputs": [],
   "source": [
    "scal = StandardScaler()\n",
    "X_scale = scal.fit_transform(X_scale)"
   ]
  },
  {
   "cell_type": "code",
   "execution_count": 170,
   "metadata": {},
   "outputs": [
    {
     "data": {
      "text/plain": [
       "((13834, 3), (13834, 2), (13834, 13))"
      ]
     },
     "execution_count": 170,
     "metadata": {},
     "output_type": "execute_result"
    }
   ],
   "source": [
    "X_scale.shape, X_bin.shape, X_dum.shape"
   ]
  },
  {
   "cell_type": "code",
   "execution_count": 171,
   "metadata": {},
   "outputs": [],
   "source": [
    "X = np.hstack((X_bin, X_scale))"
   ]
  },
  {
   "cell_type": "code",
   "execution_count": 172,
   "metadata": {},
   "outputs": [],
   "source": [
    "X = np.hstack((X, X_dum.toarray()))"
   ]
  },
  {
   "cell_type": "code",
   "execution_count": 174,
   "metadata": {},
   "outputs": [
    {
     "data": {
      "text/plain": [
       "0.5202225489729215"
      ]
     },
     "execution_count": 174,
     "metadata": {},
     "output_type": "execute_result"
    }
   ],
   "source": [
    "model = LinearRegression(n_jobs=-1)\n",
    "cv = KFold(shuffle=True, random_state=1)\n",
    "cross_val_score(model, X, y, cv=cv, n_jobs=-1, scoring='r2').mean()"
   ]
  },
  {
   "cell_type": "code",
   "execution_count": 108,
   "metadata": {},
   "outputs": [
    {
     "data": {
      "text/plain": [
       "<matplotlib.axes._subplots.AxesSubplot at 0x1f7bbe02848>"
      ]
     },
     "execution_count": 108,
     "metadata": {},
     "output_type": "execute_result"
    },
    {
     "data": {
      "image/png": "[encoded data removed]",
      "text/plain": [
       "<Figure size 432x288 with 1 Axes>"
      ]
     },
     "metadata": {
      "needs_background": "light"
     },
     "output_type": "display_data"
    }
   ],
   "source": [
    "sns.boxplot(y)"
   ]
  },
  {
   "cell_type": "code",
   "execution_count": 99,
   "metadata": {},
   "outputs": [],
   "source": [
    "X_train, X_test, y_train, y_test = train_test_split(X, y, \n",
    "                                                    random_state=241, test_size=0.3)"
   ]
  },
  {
   "cell_type": "code",
   "execution_count": null,
   "metadata": {},
   "outputs": [],
   "source": [
    "ls = LassoCV(n_jobs=-1)\n",
    "grid = GridSearchCV(ls, cv=cv, param_grid={'eps':np.linspace(0.0001, 0.001, 10)})\n",
    "grid.fit(X_train, y_train)"
   ]
  },
  {
   "cell_type": "code",
   "execution_count": 413,
   "metadata": {},
   "outputs": [
    {
     "data": {
      "text/plain": [
       "938.9228352649934"
      ]
     },
     "execution_count": 413,
     "metadata": {},
     "output_type": "execute_result"
    }
   ],
   "source": [
    "mean_squared_error(y_test, grid.best_estimator_.predict(X_test))**0.5"
   ]
  }
 ],
 "metadata": {
  "kernelspec": {
   "display_name": "Python 3",
   "language": "python",
   "name": "python3"
  },
  "language_info": {
   "codemirror_mode": {
    "name": "ipython",
    "version": 3
   },
   "file_extension": ".py",
   "mimetype": "text/x-python",
   "name": "python",
   "nbconvert_exporter": "python",
   "pygments_lexer": "ipython3",
   "version": "3.8.3"
  }
 },
 "nbformat": 4,
 "nbformat_minor": 2
}
